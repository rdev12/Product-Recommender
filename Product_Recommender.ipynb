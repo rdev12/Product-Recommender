{
 "metadata": {
  "language_info": {
   "codemirror_mode": {
    "name": "ipython",
    "version": 3
   },
   "file_extension": ".py",
   "mimetype": "text/x-python",
   "name": "python",
   "nbconvert_exporter": "python",
   "pygments_lexer": "ipython3",
   "version": "3.9.4"
  },
  "orig_nbformat": 4,
  "kernelspec": {
   "name": "python3",
   "display_name": "Python 3.9.4 64-bit"
  },
  "interpreter": {
   "hash": "4e1d2c650942a91b325b54b9274b36bdc9d492044a75ef951a73a8c46dea3f56"
  }
 },
 "nbformat": 4,
 "nbformat_minor": 2,
 "cells": [
  {
   "cell_type": "code",
   "execution_count": 5,
   "metadata": {},
   "outputs": [
    {
     "output_type": "error",
     "ename": "ModuleNotFoundError",
     "evalue": "No module named 'pandas_profiling'",
     "traceback": [
      "\u001b[1;31m---------------------------------------------------------------------------\u001b[0m",
      "\u001b[1;31mModuleNotFoundError\u001b[0m                       Traceback (most recent call last)",
      "\u001b[1;32m<ipython-input-5-9d89de2e553b>\u001b[0m in \u001b[0;36m<module>\u001b[1;34m\u001b[0m\n\u001b[0;32m      6\u001b[0m \u001b[1;32mfrom\u001b[0m \u001b[0msklearn\u001b[0m\u001b[1;33m.\u001b[0m\u001b[0mmodel_selection\u001b[0m \u001b[1;32mimport\u001b[0m \u001b[0mtrain_test_split\u001b[0m\u001b[1;33m\u001b[0m\u001b[1;33m\u001b[0m\u001b[0m\n\u001b[0;32m      7\u001b[0m \u001b[1;32mfrom\u001b[0m \u001b[0msklearn\u001b[0m\u001b[1;33m.\u001b[0m\u001b[0mmetrics\u001b[0m \u001b[1;32mimport\u001b[0m \u001b[0mclassification_report\u001b[0m\u001b[1;33m\u001b[0m\u001b[1;33m\u001b[0m\u001b[0m\n\u001b[1;32m----> 8\u001b[1;33m \u001b[1;32mfrom\u001b[0m \u001b[0mpandas_profiling\u001b[0m \u001b[1;32mimport\u001b[0m \u001b[0mProfileReport\u001b[0m\u001b[1;33m\u001b[0m\u001b[1;33m\u001b[0m\u001b[0m\n\u001b[0m",
      "\u001b[1;31mModuleNotFoundError\u001b[0m: No module named 'pandas_profiling'"
     ]
    }
   ],
   "source": [
    "import numpy as np\n",
    "import pandas as pd\n",
    "import seaborn as sns\n",
    "import matplotlib.pyplot as plt\n",
    "from sklearn.preprocessing import OneHotEncoder, LabelEncoder, MinMaxScaler\n",
    "from sklearn.model_selection import train_test_split\n",
    "from sklearn.metrics import classification_report\n",
    "from pandas_profiling import ProfileReport"
   ]
  },
  {
   "cell_type": "code",
   "execution_count": 6,
   "metadata": {},
   "outputs": [],
   "source": [
    "train = pd.read_csv('./datasets/Training Data.csv')\n",
    "train_target = pd.read_csv('./datasets/Training Data Target.csv')\n",
    "test = pd.read_csv('./datasets/Test Data.csv')"
   ]
  },
  {
   "cell_type": "code",
   "execution_count": 9,
   "metadata": {},
   "outputs": [],
   "source": [
    "train_target = train_target.drop(columns='aov')"
   ]
  },
  {
   "cell_type": "code",
   "execution_count": 11,
   "metadata": {},
   "outputs": [
    {
     "output_type": "execute_result",
     "data": {
      "text/plain": [
       "        user_id      aov        category\n",
       "0         37327  29128.0          Phones\n",
       "1         37327    354.0         Fashion\n",
       "2         37327    460.0      Home Decor\n",
       "3         37327    761.0         Fashion\n",
       "4         41260  16658.0          Phones\n",
       "...         ...      ...             ...\n",
       "257402    29237    689.0         Fashion\n",
       "257403    15197   2195.0       Groceries\n",
       "257404     2114    559.0  Back to School\n",
       "257405    35741  18451.0          Phones\n",
       "257406    36769  12529.0          Phones\n",
       "\n",
       "[257407 rows x 3 columns]"
      ],
      "text/html": "<div>\n<style scoped>\n    .dataframe tbody tr th:only-of-type {\n        vertical-align: middle;\n    }\n\n    .dataframe tbody tr th {\n        vertical-align: top;\n    }\n\n    .dataframe thead th {\n        text-align: right;\n    }\n</style>\n<table border=\"1\" class=\"dataframe\">\n  <thead>\n    <tr style=\"text-align: right;\">\n      <th></th>\n      <th>user_id</th>\n      <th>aov</th>\n      <th>category</th>\n    </tr>\n  </thead>\n  <tbody>\n    <tr>\n      <th>0</th>\n      <td>37327</td>\n      <td>29128.0</td>\n      <td>Phones</td>\n    </tr>\n    <tr>\n      <th>1</th>\n      <td>37327</td>\n      <td>354.0</td>\n      <td>Fashion</td>\n    </tr>\n    <tr>\n      <th>2</th>\n      <td>37327</td>\n      <td>460.0</td>\n      <td>Home Decor</td>\n    </tr>\n    <tr>\n      <th>3</th>\n      <td>37327</td>\n      <td>761.0</td>\n      <td>Fashion</td>\n    </tr>\n    <tr>\n      <th>4</th>\n      <td>41260</td>\n      <td>16658.0</td>\n      <td>Phones</td>\n    </tr>\n    <tr>\n      <th>...</th>\n      <td>...</td>\n      <td>...</td>\n      <td>...</td>\n    </tr>\n    <tr>\n      <th>257402</th>\n      <td>29237</td>\n      <td>689.0</td>\n      <td>Fashion</td>\n    </tr>\n    <tr>\n      <th>257403</th>\n      <td>15197</td>\n      <td>2195.0</td>\n      <td>Groceries</td>\n    </tr>\n    <tr>\n      <th>257404</th>\n      <td>2114</td>\n      <td>559.0</td>\n      <td>Back to School</td>\n    </tr>\n    <tr>\n      <th>257405</th>\n      <td>35741</td>\n      <td>18451.0</td>\n      <td>Phones</td>\n    </tr>\n    <tr>\n      <th>257406</th>\n      <td>36769</td>\n      <td>12529.0</td>\n      <td>Phones</td>\n    </tr>\n  </tbody>\n</table>\n<p>257407 rows × 3 columns</p>\n</div>"
     },
     "metadata": {},
     "execution_count": 11
    }
   ],
   "source": []
  },
  {
   "cell_type": "code",
   "execution_count": null,
   "metadata": {},
   "outputs": [],
   "source": []
  }
 ]
}